{
 "cells": [
  {
   "cell_type": "markdown",
   "metadata": {},
   "source": [
    "**Multi Threading**"
   ]
  },
  {
   "cell_type": "code",
   "execution_count": 9,
   "metadata": {},
   "outputs": [
    {
     "name": "stdout",
     "output_type": "stream",
     "text": [
      "calculating square : \n",
      "calculating cube : \n",
      "cube :  1\n",
      "square :  1\n",
      "cube :  8\n",
      "square :  4\n",
      "cube :  27\n",
      "square :  9\n",
      "cube :  64\n",
      "square :  16\n",
      "finished in :  0.8163769245147705\n"
     ]
    }
   ],
   "source": [
    "import time\n",
    "import threading\n",
    "\n",
    "def calc_square(numbers):\n",
    "    print(\"calculating square : \")\n",
    "    for n in numbers:\n",
    "        time.sleep(0.2)\n",
    "        print(\"square : \",n*n)\n",
    "\n",
    "def calc_cube(numbers):\n",
    "    print(\"calculating cube : \")\n",
    "    for n in numbers:\n",
    "        time.sleep(0.2)\n",
    "        print(\"cube : \",n*n*n)\n",
    "\n",
    "t = time.time()\n",
    "arr = [1,2,3,4]\n",
    "t1 = threading.Thread(target=calc_square, args=(arr,))\n",
    "t2 = threading.Thread(target=calc_cube, args=(arr,))\n",
    "t1.start()\n",
    "t2.start()\n",
    "t1.join()\n",
    "t2.join()\n",
    "print(\"finished in : \",time.time()-t)"
   ]
  },
  {
   "cell_type": "code",
   "execution_count": null,
   "metadata": {},
   "outputs": [],
   "source": []
  }
 ],
 "metadata": {
  "kernelspec": {
   "display_name": "Python 3",
   "language": "python",
   "name": "python3"
  },
  "language_info": {
   "codemirror_mode": {
    "name": "ipython",
    "version": 3
   },
   "file_extension": ".py",
   "mimetype": "text/x-python",
   "name": "python",
   "nbconvert_exporter": "python",
   "pygments_lexer": "ipython3",
   "version": "3.10.13"
  }
 },
 "nbformat": 4,
 "nbformat_minor": 2
}
