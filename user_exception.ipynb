{
 "cells": [
  {
   "cell_type": "markdown",
   "metadata": {},
   "source": [
    "**User Defined Exception**"
   ]
  },
  {
   "cell_type": "code",
   "execution_count": 2,
   "metadata": {},
   "outputs": [
    {
     "name": "stdout",
     "output_type": "stream",
     "text": [
      "crash two cars\n",
      "finally block\n"
     ]
    }
   ],
   "source": [
    "class Accident(Exception):\n",
    " def __init__(self,msg):\n",
    "  self.msg = msg\n",
    " def print_exception(self):\n",
    "  print(self.msg)\n",
    "\n",
    "try:\n",
    " raise Accident(\"crash two cars\")\n",
    "except Accident as e:\n",
    " print(e)\n",
    "finally:\n",
    " print(\"finally block\")"
   ]
  }
 ],
 "metadata": {
  "kernelspec": {
   "display_name": "Python 3",
   "language": "python",
   "name": "python3"
  },
  "language_info": {
   "codemirror_mode": {
    "name": "ipython",
    "version": 3
   },
   "file_extension": ".py",
   "mimetype": "text/x-python",
   "name": "python",
   "nbconvert_exporter": "python",
   "pygments_lexer": "ipython3",
   "version": "3.10.13"
  }
 },
 "nbformat": 4,
 "nbformat_minor": 2
}
