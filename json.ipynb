{
 "cells": [
  {
   "cell_type": "markdown",
   "metadata": {},
   "source": [
    "*JSON*"
   ]
  },
  {
   "cell_type": "code",
   "execution_count": 3,
   "metadata": {},
   "outputs": [
    {
     "name": "stdout",
     "output_type": "stream",
     "text": [
      "{'alice': {'name': 'alice', 'address': 'dhaka', 'phone': '12342321'}, 'bob': {'name': 'bob', 'address': 'sylhet', 'phone': '123423098'}}\n"
     ]
    }
   ],
   "source": [
    "person = {}\n",
    "person['alice'] = {\n",
    " 'name' : 'alice',\n",
    " 'address' : 'dhaka',\n",
    " 'phone' : '12342321'\n",
    "}\n",
    "\n",
    "person['bob'] = {\n",
    " 'name' : 'bob',\n",
    " 'address' : 'sylhet',\n",
    " 'phone' : '123423098'\n",
    "}\n",
    "\n",
    "print(person)"
   ]
  },
  {
   "cell_type": "code",
   "execution_count": 6,
   "metadata": {},
   "outputs": [
    {
     "name": "stdout",
     "output_type": "stream",
     "text": [
      "{\"alice\": {\"name\": \"alice\", \"address\": \"dhaka\", \"phone\": \"12342321\"}, \"bob\": {\"name\": \"bob\", \"address\": \"sylhet\", \"phone\": \"123423098\"}}\n"
     ]
    }
   ],
   "source": [
    "#  converting dictionary to json\n",
    "import json\n",
    "s = json.dumps(person)\n",
    "print(s)\n"
   ]
  },
  {
   "cell_type": "code",
   "execution_count": 7,
   "metadata": {},
   "outputs": [],
   "source": [
    "# writing to file\n",
    "with open(\"person.txt\",\"w\") as f:\n",
    " f.write(s)"
   ]
  },
  {
   "cell_type": "code",
   "execution_count": 8,
   "metadata": {},
   "outputs": [
    {
     "name": "stdout",
     "output_type": "stream",
     "text": [
      "{\"alice\": {\"name\": \"alice\", \"address\": \"dhaka\", \"phone\": \"12342321\"}, \"bob\": {\"name\": \"bob\", \"address\": \"sylhet\", \"phone\": \"123423098\"}}\n"
     ]
    }
   ],
   "source": [
    "# reading from file\n",
    "with open(\"person.txt\",\"r\") as f:\n",
    " s = f.read()\n",
    " print(s)"
   ]
  },
  {
   "cell_type": "code",
   "execution_count": 9,
   "metadata": {},
   "outputs": [
    {
     "name": "stdout",
     "output_type": "stream",
     "text": [
      "{'alice': {'name': 'alice', 'address': 'dhaka', 'phone': '12342321'}, 'bob': {'name': 'bob', 'address': 'sylhet', 'phone': '123423098'}}\n"
     ]
    }
   ],
   "source": [
    "# converting json to dictionary\n",
    "person = json.loads(s)\n",
    "print(person)"
   ]
  },
  {
   "cell_type": "code",
   "execution_count": 11,
   "metadata": {},
   "outputs": [
    {
     "data": {
      "text/plain": [
       "'123423098'"
      ]
     },
     "execution_count": 11,
     "metadata": {},
     "output_type": "execute_result"
    }
   ],
   "source": [
    "person['bob']['phone']"
   ]
  },
  {
   "cell_type": "code",
   "execution_count": 16,
   "metadata": {},
   "outputs": [
    {
     "name": "stdout",
     "output_type": "stream",
     "text": [
      "alice : {'name': 'alice', 'address': 'dhaka', 'phone': '12342321'}\n",
      "bob : {'name': 'bob', 'address': 'sylhet', 'phone': '123423098'}\n"
     ]
    }
   ],
   "source": [
    "# printing all\n",
    "\n",
    "for p in person:\n",
    " print(f\"{p} : {person[p]}\")"
   ]
  }
 ],
 "metadata": {
  "kernelspec": {
   "display_name": "Python 3",
   "language": "python",
   "name": "python3"
  },
  "language_info": {
   "codemirror_mode": {
    "name": "ipython",
    "version": 3
   },
   "file_extension": ".py",
   "mimetype": "text/x-python",
   "name": "python",
   "nbconvert_exporter": "python",
   "pygments_lexer": "ipython3",
   "version": "3.10.13"
  }
 },
 "nbformat": 4,
 "nbformat_minor": 2
}
