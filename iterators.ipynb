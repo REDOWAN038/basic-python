{
 "cells": [
  {
   "cell_type": "markdown",
   "metadata": {},
   "source": [
    "**Iterators**"
   ]
  },
  {
   "cell_type": "code",
   "execution_count": 13,
   "metadata": {},
   "outputs": [
    {
     "name": "stdout",
     "output_type": "stream",
     "text": [
      "abc\n",
      "hbo\n",
      "espn\n",
      "\n",
      "loop finish\n"
     ]
    }
   ],
   "source": [
    "class RemoteControl:\n",
    " def __init__(self):\n",
    "  self.channels = ['abc','hbo','espn']\n",
    "  self.index = -1\n",
    " def __iter__(self):\n",
    "  return self\n",
    " def __next__(self):\n",
    "  self.index+=1\n",
    "  if self.index == len(self.channels):\n",
    "   raise StopIteration\n",
    "  return self.channels[self.index]\n",
    "\n",
    "r = RemoteControl()\n",
    "itr = iter(r)\n",
    "\n",
    "try:\n",
    " while(True):\n",
    "  print(next(itr))\n",
    "except Exception as e:\n",
    " print(e)\n",
    "finally:\n",
    " print(\"loop finish\")"
   ]
  },
  {
   "cell_type": "code",
   "execution_count": null,
   "metadata": {},
   "outputs": [],
   "source": []
  }
 ],
 "metadata": {
  "kernelspec": {
   "display_name": "Python 3",
   "language": "python",
   "name": "python3"
  },
  "language_info": {
   "codemirror_mode": {
    "name": "ipython",
    "version": 3
   },
   "file_extension": ".py",
   "mimetype": "text/x-python",
   "name": "python",
   "nbconvert_exporter": "python",
   "pygments_lexer": "ipython3",
   "version": "3.10.13"
  }
 },
 "nbformat": 4,
 "nbformat_minor": 2
}
