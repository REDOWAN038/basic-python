{
 "cells": [
  {
   "cell_type": "markdown",
   "metadata": {},
   "source": [
    "**Multiple Inheritance**"
   ]
  },
  {
   "cell_type": "code",
   "execution_count": 7,
   "metadata": {},
   "outputs": [
    {
     "name": "stdout",
     "output_type": "stream",
     "text": [
      "i love cooking\n",
      "i love gardening\n",
      "i love sports\n",
      "programming\n",
      "dancing\n",
      "acting\n"
     ]
    }
   ],
   "source": [
    "class Father:\n",
    " def gardening(self):\n",
    "  print(\"i love gardening\")\n",
    " def skills(self):\n",
    "  print(\"programming\")\n",
    "\n",
    "class Mother:\n",
    " def cooking(self):\n",
    "  print(\"i love cooking\")\n",
    " def skills(self):\n",
    "  print(\"dancing\")\n",
    "\n",
    "class Child(Father,Mother):\n",
    " def sports(self):\n",
    "  print(\"i love sports\")\n",
    " def skills(self):\n",
    "  Father.skills(self)\n",
    "  Mother.skills(self)\n",
    "  print(\"acting\")\n",
    "\n",
    "c = Child()\n",
    "c.cooking()\n",
    "c.gardening()\n",
    "c.sports()\n",
    "c.skills()"
   ]
  }
 ],
 "metadata": {
  "kernelspec": {
   "display_name": "Python 3",
   "language": "python",
   "name": "python3"
  },
  "language_info": {
   "codemirror_mode": {
    "name": "ipython",
    "version": 3
   },
   "file_extension": ".py",
   "mimetype": "text/x-python",
   "name": "python",
   "nbconvert_exporter": "python",
   "pygments_lexer": "ipython3",
   "version": "3.10.13"
  }
 },
 "nbformat": 4,
 "nbformat_minor": 2
}
